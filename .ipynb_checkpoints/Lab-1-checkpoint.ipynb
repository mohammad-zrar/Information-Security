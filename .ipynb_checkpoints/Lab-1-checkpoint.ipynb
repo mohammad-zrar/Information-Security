{
 "cells": [
  {
   "cell_type": "code",
   "execution_count": 13,
   "id": "a8bfcba5",
   "metadata": {},
   "outputs": [
    {
     "name": "stdout",
     "output_type": "stream",
     "text": [
      "Please enter the password: hhhHKK4343%\n",
      "4\n",
      "Your Password is Strong\n"
     ]
    }
   ],
   "source": [
    "password = input(\"Please enter the password: \")\n",
    "capital_letter = False\n",
    "small_letter = False\n",
    "didgit = False\n",
    "symbol = False\n",
    "\n",
    "if len(password) < 8:\n",
    "    print(\"The password  must be greater than 8 Charecter.\")\n",
    "else:\n",
    "    pass_rate = 0\n",
    "    for c in password:\n",
    "        if c.isupper():\n",
    "            capital_letter = True\n",
    "        elif c.islower():\n",
    "            small_letter = True\n",
    "        elif not c.isdigit():\n",
    "            didgit = True\n",
    "        else:\n",
    "            symbol = True\n",
    "pass_rate = capital_letter + small_letter + didgit + symbol\n",
    "print(pass_rate)\n",
    "\n",
    "if pass_rate == 4:\n",
    "    print('Your Password is Strong')\n",
    "elif pass_rate == 3:\n",
    "    print('Your Password is Good')\n",
    "elif pass_rate == 2:\n",
    "    print('Your Password is Weak')\n",
    "else:\n",
    "    print('Bad Password')"
   ]
  },
  {
   "cell_type": "code",
   "execution_count": 26,
   "id": "84486d0f",
   "metadata": {},
   "outputs": [
    {
     "name": "stdout",
     "output_type": "stream",
     "text": [
      "Please enter the password: hhhRE454%%^\n",
      "4\n",
      "Your Password is Strong\n"
     ]
    }
   ],
   "source": [
    "# Q1) Don’t use existing functions from python library (isupper, islower, etc.)\n",
    "password = input(\"Please enter the password: \")\n",
    "capital_letter = False\n",
    "small_letter = False\n",
    "didgit = False\n",
    "symbol = False\n",
    "\n",
    "if len(password) < 8:\n",
    "    print(\"The password  must be greater than 8 Charecter.\")\n",
    "else:\n",
    "    pass_rate = 0\n",
    "    for c in password:\n",
    "        if 'A' <= c <= 'Z':\n",
    "            capital_letter = True\n",
    "        elif 'a' <= c <= 'z':\n",
    "            small_letter = True\n",
    "        elif '0' <= c <= '9':\n",
    "            didgit = True\n",
    "        else:\n",
    "            symbol = True\n",
    "pass_rate = capital_letter + small_letter + didgit + symbol\n",
    "print(pass_rate)\n",
    "\n",
    "if pass_rate == 4:\n",
    "    print('Your Password is Strong')\n",
    "elif pass_rate == 3:\n",
    "    print('Your Password is Good')\n",
    "elif pass_rate == 2:\n",
    "    print('Your Password is Weak')\n",
    "else:\n",
    "    print('Bad Password')"
   ]
  },
  {
   "cell_type": "code",
   "execution_count": 36,
   "id": "f016c107",
   "metadata": {},
   "outputs": [
    {
     "name": "stdout",
     "output_type": "stream",
     "text": [
      "Please enter the password: dfsaieowdas\n",
      "Not repeated password\n"
     ]
    }
   ],
   "source": [
    "# Q2) the program should warn the user if he/she use repeated letters more than 3 times.\n",
    "def is_repeated(pw):\n",
    "    for i in range(2, len(pw)):\n",
    "        if(pw[i-2] == pw[i-1] == pw[i]):\n",
    "            return True\n",
    "    return False\n",
    "    \n",
    "password = input(\"Please enter the password: \")\n",
    "\n",
    "if is_repeated(password):\n",
    "    print(\"The password is repeated\")\n",
    "else:\n",
    "    print(\"Not repeated password\")"
   ]
  },
  {
   "cell_type": "code",
   "execution_count": null,
   "id": "402f2293",
   "metadata": {},
   "outputs": [],
   "source": [
    "\n",
    "\n",
    "\n",
    "\n",
    "\n",
    "\n",
    "\n",
    "\n",
    "\n",
    "\n",
    "\n",
    "\n",
    "\n",
    "\n",
    "\n",
    "\n",
    "\n",
    "\n",
    "\n",
    "\n",
    "\n",
    "\n",
    "\n",
    "\n"
   ]
  }
 ],
 "metadata": {
  "kernelspec": {
   "display_name": "Python 3 (ipykernel)",
   "language": "python",
   "name": "python3"
  },
  "language_info": {
   "codemirror_mode": {
    "name": "ipython",
    "version": 3
   },
   "file_extension": ".py",
   "mimetype": "text/x-python",
   "name": "python",
   "nbconvert_exporter": "python",
   "pygments_lexer": "ipython3",
   "version": "3.9.13"
  }
 },
 "nbformat": 4,
 "nbformat_minor": 5
}
