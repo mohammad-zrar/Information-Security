{
 "cells": [
  {
   "cell_type": "code",
   "execution_count": 8,
   "id": "bb25d0c8",
   "metadata": {},
   "outputs": [
    {
     "name": "stdout",
     "output_type": "stream",
     "text": [
      "Enter username: mohmmad\n",
      "There is no username like this enter again: zf\n",
      "There is no username like this enter again: fds\n",
      "There is no username like this enter again: sdf\n",
      "There is no username like this enter again: mohammad\n",
      "Enter passwerd: fad\n",
      "The password is not correct please enter again: dfs\n",
      "The password is not correct please enter again: fds\n",
      "Wait 60 secons\n",
      "1\n",
      "2\n",
      "3\n",
      "4\n",
      "5\n",
      "6\n",
      "7\n",
      "8\n",
      "9\n",
      "10\n",
      "The password is not correct please enter again: 12345\n",
      "Log in successfully\n"
     ]
    }
   ],
   "source": [
    "from time import sleep\n",
    "import os\n",
    "usernames = [\"mohammad\", \"zewar\", \"zakaria\", \"zirak\"]\n",
    "passwords = ['12345', 'hhdd', 'ramrom', 'reman']\n",
    "\n",
    "username = input(\"Enter username: \")\n",
    "while  username not in usernames:\n",
    "    username = input(\"There is no username like this enter again: \")\n",
    "\n",
    "password = input(\"Enter passwerd: \")\n",
    "attempts = 1\n",
    "login = True\n",
    "while login:\n",
    "    if password in passwords:\n",
    "        if usernames.index(username) == passwords.index(password):\n",
    "            print(\"Log in successfully\")\n",
    "            login = False\n",
    "    if attempts == 3:\n",
    "        print(\"Wait 60 secons\")\n",
    "        for i in  range(1, 11):\n",
    "            print(i)\n",
    "            sleep(1)\n",
    "            os.system('clear')\n",
    "        attempts = 0\n",
    "        \n",
    "    if login == True:\n",
    "        attempts += 1\n",
    "        password = input(\"The password is not correct please enter again: \")\n",
    "    \n",
    "    "
   ]
  },
  {
   "cell_type": "code",
   "execution_count": 2,
   "id": "21ed73be",
   "metadata": {},
   "outputs": [
    {
     "name": "stdout",
     "output_type": "stream",
     "text": [
      "Enter username: zewar\n",
      "Enter passwerd: df\n",
      "The password is not correct please enter again: fd\n",
      "The password is not correct please enter again: fd\n",
      "Wait 5 secons\n",
      "1\n",
      "2\n",
      "3\n",
      "4\n",
      "5\n",
      "The password is not correct please enter again: f\n",
      "Wait 10 secons\n",
      "1\n",
      "2\n",
      "3\n",
      "4\n",
      "5\n",
      "6\n",
      "7\n",
      "8\n",
      "9\n",
      "10\n",
      "The password is not correct please enter again: hhdd\n",
      "Log in successfully\n"
     ]
    }
   ],
   "source": [
    "# H.W Q1) + Q2):\n",
    "\n",
    "from time import sleep\n",
    "\n",
    "usernames = [\"mohammad\", \"zewar\", \"zakaria\", \"zirak\"]\n",
    "passwords = ['12345', 'hhdd', 'ramrom', 'reman']\n",
    "\n",
    "username = input(\"Enter username: \")\n",
    "while  username not in usernames:\n",
    "    username = input(\"There is no username like this enter again: \")\n",
    "\n",
    "password = input(\"Enter passwerd: \")\n",
    "attempts = 1\n",
    "login = False\n",
    "seconds_of_waiting = 5\n",
    "while not login:\n",
    "    \n",
    "    if not login:\n",
    "        attempts += 1\n",
    "        password = input(\"The password is not correct please enter again: \")       \n",
    "    if password in passwords:\n",
    "        if usernames.index(username) == passwords.index(password):\n",
    "            print(\"Log in successfully\")\n",
    "            login = True\n",
    "            break\n",
    "    \n",
    "        \n",
    "    if attempts >= 3 and not login:\n",
    "        print(f\"Wait {seconds_of_waiting} secons\")\n",
    "        for i in  range(1, seconds_of_waiting + 1):\n",
    "            print(i)\n",
    "            sleep(1)\n",
    "        seconds_of_waiting += 5\n",
    "\n",
    "         \n"
   ]
  },
  {
   "cell_type": "code",
   "execution_count": null,
   "id": "9161b7cc",
   "metadata": {},
   "outputs": [],
   "source": [
    "\n",
    "\n",
    "\n",
    "\n",
    "\n",
    "\n",
    "\n",
    "\n",
    "\n"
   ]
  }
 ],
 "metadata": {
  "kernelspec": {
   "display_name": "Python 3 (ipykernel)",
   "language": "python",
   "name": "python3"
  },
  "language_info": {
   "codemirror_mode": {
    "name": "ipython",
    "version": 3
   },
   "file_extension": ".py",
   "mimetype": "text/x-python",
   "name": "python",
   "nbconvert_exporter": "python",
   "pygments_lexer": "ipython3",
   "version": "3.9.13"
  }
 },
 "nbformat": 4,
 "nbformat_minor": 5
}
