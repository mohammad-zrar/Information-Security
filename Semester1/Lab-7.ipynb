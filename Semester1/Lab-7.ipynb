{
 "cells": [
  {
   "cell_type": "code",
   "execution_count": 2,
   "id": "35df2709",
   "metadata": {},
   "outputs": [
    {
     "name": "stdout",
     "output_type": "stream",
     "text": [
      "1\n"
     ]
    }
   ],
   "source": [
    "def gcd(num1, num2):\n",
    "    if num2 == 0:\n",
    "         return num1\n",
    "    else:\n",
    "         return gcd(num2, num1 % num2)\n"
   ]
  },
  {
   "cell_type": "code",
   "execution_count": 14,
   "id": "3ed22153",
   "metadata": {},
   "outputs": [
    {
     "name": "stdout",
     "output_type": "stream",
     "text": [
      "Enter plain text: computer\n",
      "Enter alpha: 5\n",
      "Enter beta: 8\n",
      "saqfezcp\n"
     ]
    }
   ],
   "source": [
    "# Encrypt plain text using affine cipher\n",
    "from string import ascii_lowercase as alphabet\n",
    "\n",
    "def gcd(num1, num2):\n",
    "    if num2 == 0:\n",
    "         return num1\n",
    "    else:\n",
    "         return gcd(num2, num1 % num2)\n",
    "        \n",
    "plain_text = input(\"Enter plain text: \")\n",
    "a = int(input(\"Enter alpha: \"))\n",
    "b = int(input(\"Enter beta: \"))\n",
    "cipher_text = \"\"\n",
    "\n",
    "if gcd(a, b) == 1:\n",
    "    for letter in plain_text:\n",
    "        c_index = (a * alphabet.index(letter) + b) % 26\n",
    "        cipher_text += alphabet[c_index]\n",
    "    print(cipher_text)\n",
    "else:\n",
    "    print('alpha is not acceptable!!')"
   ]
  },
  {
   "cell_type": "code",
   "execution_count": 18,
   "id": "e3a34863",
   "metadata": {},
   "outputs": [
    {
     "name": "stdout",
     "output_type": "stream",
     "text": [
      "Enter plain text: saqfezcp\n",
      "Enter alpha: 5\n",
      "Enter beta: 8\n",
      "computer\n"
     ]
    }
   ],
   "source": [
    "# Q1) Write a program to decrypt a message using Affine cipher for only 26 small \n",
    "# letters. Hint: you should use modular multiplication Inverse as a function.\n",
    "\n",
    "from string import ascii_lowercase as alphabet\n",
    "\n",
    "def gcd(num1, num2):\n",
    "    if num2 == 0:\n",
    "         return num1\n",
    "    else:\n",
    "         return gcd(num2, num1 % num2)\n",
    "        \n",
    "decipher_text = input(\"Enter cipher text: \")\n",
    "a = int(input(\"Enter alpha: \"))\n",
    "b = int(input(\"Enter beta: \"))\n",
    "plain_text = \"\"\n",
    "\n",
    "if gcd(a, b) == 1:\n",
    "    inv_a = pow(5, -1, 26)   # This is find the inverse of alpha\n",
    "    for letter in decipher_text:\n",
    "        c_index = inv_a * (alphabet.index(letter) - b) % 26\n",
    "        plain_text += alphabet[c_index]\n",
    "    print(plain_text)\n",
    "else:\n",
    "    print('alpha is not acceptable!!')"
   ]
  },
  {
   "cell_type": "code",
   "execution_count": 25,
   "id": "7f218efa",
   "metadata": {},
   "outputs": [
    {
     "name": "stdout",
     "output_type": "stream",
     "text": [
      "Enter the text: saqfezcp\n",
      "Enter alpha: 5\n",
      "Enter bet: 8\n",
      "Enter (de) to decrypt enter (en) to encrypt: de\n",
      "computer\n"
     ]
    }
   ],
   "source": [
    "# Q2) according to above program, write a program to create two functions for \n",
    "# encryption and decryption Affine cipher, and then in the main program control the \n",
    "# function by entering 1 to encrypt and 2 to decrypt.\n",
    "from string import ascii_lowercase as alphabet\n",
    "\n",
    "def gcd(num1, num2):\n",
    "    if num2 == 0:\n",
    "         return num1\n",
    "    else:\n",
    "         return gcd(num2, num1 % num2)\n",
    "        \n",
    "def cipher(plain_text, a, b):\n",
    "    cipher_text = \"\"\n",
    "    if gcd(a, b) == 1:\n",
    "        for letter in plain_text:\n",
    "            c_index = (a * alphabet.index(letter) + b) % 26\n",
    "            cipher_text += alphabet[c_index]\n",
    "        return cipher_text\n",
    "    else:\n",
    "        return 'alpha is not acceptable!!'\n",
    "\n",
    "def decipher(cipher_text, a, b):\n",
    "    plain_text = \"\"\n",
    "    if gcd(a, b) == 1:\n",
    "        inv_a = pow(5, -1, 26)   # This is find the inverse of alpha\n",
    "        for letter in decipher_text:\n",
    "            c_index = inv_a * (alphabet.index(letter) - b) % 26\n",
    "            plain_text += alphabet[c_index]\n",
    "        return plain_text\n",
    "    else:\n",
    "        return 'alpha is not acceptable!!'\n",
    "        \n",
    "text = input(\"Enter the text: \")\n",
    "alpha = int(input(\"Enter alpha: \"))\n",
    "beta = int(input(\"Enter bet: \"))\n",
    "choice = input(\"Enter (de) to decrypt enter (en) to encrypt: \").lower()\n",
    "\n",
    "if choice == \"de\":\n",
    "    print(decipher(text, alpha, beta))\n",
    "else:\n",
    "    print(cipher(text, alpha, beta))\n"
   ]
  },
  {
   "cell_type": "code",
   "execution_count": 31,
   "id": "24d33673",
   "metadata": {},
   "outputs": [
    {
     "name": "stdout",
     "output_type": "stream",
     "text": [
      "Enter plain text: computer\n",
      "Enter alpha: 5\n",
      "Enter beta: 8\n",
      "113\n",
      "121\n",
      "111\n",
      "100\n",
      "99\n",
      "120\n",
      "97\n",
      "110\n",
      "qyodcxan\n"
     ]
    }
   ],
   "source": [
    "# Q3) Write a program to encryption a message using Affine cipher with ASCII code.\n",
    "def gcd(num1, num2):\n",
    "    if num2 == 0:\n",
    "         return num1\n",
    "    else:\n",
    "         return gcd(num2, num1 % num2)\n",
    "        \n",
    "plain_text = input(\"Enter plain text: \")\n",
    "a = int(input(\"Enter alpha: \"))\n",
    "b = int(input(\"Enter beta: \"))\n",
    "cipher_text = \"\"\n",
    "\n",
    "if gcd(a, b) == 1:\n",
    "    for letter in plain_text:\n",
    "        c_index = (a * ord(letter) + b)\n",
    "        # Mode c_index using minus to be stay in range\n",
    "        while c_index > 122:\n",
    "            c_index -= 26\n",
    "        while c_index < 97:\n",
    "            c_index += 26\n",
    "            \n",
    "        cipher_text += chr(c_index)\n",
    "    print(cipher_text)\n",
    "else:\n",
    "    print('alpha is not acceptable!!')"
   ]
  },
  {
   "cell_type": "code",
   "execution_count": 32,
   "id": "3138ab01",
   "metadata": {},
   "outputs": [
    {
     "name": "stdout",
     "output_type": "stream",
     "text": [
      "Enter cipher text: qyodcxan\n",
      "Enter alpha: 5\n",
      "Enter beta: 8\n",
      "computer\n"
     ]
    }
   ],
   "source": [
    "# Q4) Write a program to decryption a message using Affine cipher with ASCII code.\n",
    "\n",
    "from string import ascii_lowercase as alphabet\n",
    "\n",
    "def gcd(num1, num2):\n",
    "    if num2 == 0:\n",
    "         return num1\n",
    "    else:\n",
    "         return gcd(num2, num1 % num2)\n",
    "        \n",
    "decipher_text = input(\"Enter cipher text: \")\n",
    "a = int(input(\"Enter alpha: \"))\n",
    "b = int(input(\"Enter beta: \"))\n",
    "plain_text = \"\"\n",
    "\n",
    "if gcd(a, b) == 1:\n",
    "    inv_a = pow(5, -1, 26)   # This is find the inverse of alpha\n",
    "    for letter in decipher_text:\n",
    "        c_index = inv_a * (ord(letter) - b)\n",
    "        while c_index > 122:\n",
    "            c_index -= 26\n",
    "        while c_index < 97:\n",
    "            c_index += 26\n",
    "        plain_text += chr(c_index)\n",
    "    print(plain_text)\n",
    "else:\n",
    "    print('alpha is not acceptable!!')"
   ]
  },
  {
   "cell_type": "code",
   "execution_count": 36,
   "id": "478aeb0a",
   "metadata": {},
   "outputs": [
    {
     "name": "stdout",
     "output_type": "stream",
     "text": [
      "1\n"
     ]
    }
   ],
   "source": [
    "# Finding GCD withou recurion\n",
    "def gcdIter(a, b):\n",
    "    while b:\n",
    "        a, b = b, a%b\n",
    "    return a\n",
    "    \n",
    "print(gcdIter(5, 8))"
   ]
  },
  {
   "cell_type": "code",
   "execution_count": 27,
   "id": "5a083ee8",
   "metadata": {},
   "outputs": [
    {
     "name": "stdout",
     "output_type": "stream",
     "text": [
      "21\n",
      "97\n",
      "122\n"
     ]
    }
   ],
   "source": [
    "print(pow(a, -1, 26))\n",
    "print(ord('a'))\n",
    "print(ord('z'))\n",
    "\n"
   ]
  }
 ],
 "metadata": {
  "kernelspec": {
   "display_name": "Python 3 (ipykernel)",
   "language": "python",
   "name": "python3"
  },
  "language_info": {
   "codemirror_mode": {
    "name": "ipython",
    "version": 3
   },
   "file_extension": ".py",
   "mimetype": "text/x-python",
   "name": "python",
   "nbconvert_exporter": "python",
   "pygments_lexer": "ipython3",
   "version": "3.9.13"
  }
 },
 "nbformat": 4,
 "nbformat_minor": 5
}
