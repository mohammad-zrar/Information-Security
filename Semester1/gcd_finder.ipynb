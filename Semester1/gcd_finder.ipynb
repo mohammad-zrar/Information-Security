{
 "cells": [
  {
   "cell_type": "code",
   "execution_count": 58,
   "id": "bbfcb516",
   "metadata": {},
   "outputs": [
    {
     "name": "stdout",
     "output_type": "stream",
     "text": [
      "---GCD finder---\n",
      "Enter fitst number: 5\n",
      "Enter second number: 8\n",
      "a = q * b + r\n",
      "8 = 1 * 5 + 3\n",
      "5 = 1 * 3 + 2\n",
      "3 = 1 * 2 + 1\n",
      "GCD(5,8)=1\n",
      "5\n",
      "[1, 1, 1, 2]\n"
     ]
    }
   ],
   "source": [
    "print(\"---GCD finder---\")\n",
    "def find_GCD(num1, num2):\n",
    "    a, b, r, q = [], [], [], []\n",
    "   \n",
    "    if num1 > num2:\n",
    "        a.append(num1)\n",
    "        b.append(num2)\n",
    "    else:\n",
    "        a.append(num2)\n",
    "        b.append(num1)\n",
    "    \n",
    "    r.append(a[0]%b[0])\n",
    "    q.append(int(a[0]/b[0]))\n",
    "    \n",
    "    i=0\n",
    "    print(\"a = q * b + r\")\n",
    "    while r[i] != 0:\n",
    "        a.append(b[i])\n",
    "        b.append(r[i])\n",
    "        if b[i+1] == 0:\n",
    "            break\n",
    "        else:\n",
    "            r.append(a[i+1]%b[i+1])\n",
    "            q.append(int(a[i+1]/b[i+1]))\n",
    "        print(f'{a[i]} = {q[i]} * {b[i]} + {r[i]}')\n",
    "        i += 1\n",
    "    return b[-1], q # Last element of the array b is the gcd\n",
    "\n",
    "num1 = int(input(\"Enter fitst number: \"))\n",
    "num2 = int(input(\"Enter second number: \"))\n",
    "\n",
    "gcd, q = find_GCD(num1, num2)\n",
    "print(f\"GCD({num1},{num2})={gcd}\")\n",
    "if gcd != 1:\n",
    "    print('Inverse is Not Unique')\n",
    "else:\n",
    "    x = [0, 1]\n",
    "    j = 2\n",
    "    for _ in range(len(q)-1):\n",
    "        x.append((-q[j-2]*x[j-1])+x[j-2])\n",
    "        j+=1\n",
    "    print(x[-1] % num2)\n",
    "print(q)"
   ]
  },
  {
   "cell_type": "code",
   "execution_count": 22,
   "id": "56a67a23",
   "metadata": {},
   "outputs": [
    {
     "name": "stdout",
     "output_type": "stream",
     "text": [
      "please Enter the number:5\n",
      "please Enter the modular:8\n",
      "[1, 1, 1, 2]\n",
      "gcd1\n",
      "7\n",
      "2\n",
      "5\n"
     ]
    }
   ],
   "source": [
    "def gcd(n1, n2):\n",
    "    i = 0\n",
    "    q = []\n",
    "    r = []\n",
    "    while n2 != 0:\n",
    "        q.append(n1//n2)\n",
    "        r.append(n1 % n2)\n",
    "        n1 = n2\n",
    "        n2 = r[i]\n",
    "        i += 1\n",
    "    return q, n1\n",
    "num1 = int(input('please Enter the number:'))\n",
    "num2 = int(input('please Enter the modular:'))\n",
    "q1, gcd_r = gcd(num2, num1)\n",
    "print(q1)\n",
    "print(\"gcd= \" + str(gcd_r))\n",
    "if gcd_r == 1:\n",
    "    x_list = [0, 1]\n",
    "    j = 2\n",
    "    for i in range(len(q1)-1):\n",
    "        x_list.append(-q1[j-2]*x_list[j-1]+x_list[j-2])\n",
    "        j += 1\n",
    "        print(x_list[len(x_list)-1]%num2)\n",
    "else:\n",
    "     print('Inverse is Not Unique')"
   ]
  },
  {
   "cell_type": "code",
   "execution_count": 19,
   "id": "5708b542",
   "metadata": {},
   "outputs": [
    {
     "name": "stdout",
     "output_type": "stream",
     "text": [
      "i=0, j=5, k=10\n",
      "i=1, j=6, k=11\n",
      "i=2, j=7, k=12\n",
      "i=3, j=8, k=13\n",
      "i=4, j=9, k=14\n"
     ]
    }
   ],
   "source": [
    "for i, j, k in zip(range(5), range(5, 10), range(10, 15)):\n",
    "    print(f\"i={i}, j={j}, k={k}\")"
   ]
  },
  {
   "cell_type": "code",
   "execution_count": 35,
   "id": "0d81046a",
   "metadata": {},
   "outputs": [
    {
     "data": {
      "text/plain": [
       "(1, -3, 2)"
      ]
     },
     "execution_count": 35,
     "metadata": {},
     "output_type": "execute_result"
    }
   ],
   "source": [
    "def egcd(a, b):\n",
    "    if a == 0:\n",
    "        return (b, 0, 1)\n",
    "    else:\n",
    "        g, y, x = egcd(b % a, a)\n",
    "        return (g, x - (b // a) * y, y)\n",
    "\n",
    "def modinv(a, m):\n",
    "    g, x, y = egcd(a, m)\n",
    "    if g != 1:\n",
    "        raise Exception('modular inverse does not exist')\n",
    "    else:\n",
    "        return x % m\n",
    "    \n",
    "egcd(5, 8)"
   ]
  },
  {
   "cell_type": "code",
   "execution_count": 44,
   "id": "74c413e8",
   "metadata": {},
   "outputs": [
    {
     "data": {
      "text/plain": [
       "0"
      ]
     },
     "execution_count": 44,
     "metadata": {},
     "output_type": "execute_result"
    }
   ],
   "source": [
    "def gcd(n1, n2):\n",
    "    remainders = quotients = []\n",
    "    # If n2 > n1 swap them\n",
    "    if n2 > n1:\n",
    "        # The below statement represents swap in python\n",
    "        n1, n2 = n2, n1\n",
    "\n",
    "    while n2 != 0:\n",
    "        quotients.append(n1 // n2)\n",
    "        remainders.append(n1 % n2)\n",
    "        n1 = n2\n",
    "        n2 = remainders[-1]\n",
    "\n",
    "    return n1, quotients\n",
    "\n",
    "def extended_euclidean_algorithm(n1, n2):\n",
    "    if n1 < n2:\n",
    "        n1, n2 = n2, n1\n",
    "\n",
    "    gcd_value, quotients = gcd(n1, n2)  \n",
    "\n",
    "    if gcd_value != 1:\n",
    "        print('Inverse is not unique')\n",
    "        return\n",
    "\n",
    "    x_list = [0, 1]\n",
    "    # y_list = [1, 0]\n",
    "\n",
    "  # index = 2\n",
    "    for _ in range(len(quotients) - 1):\n",
    "        x_list.append(-quotients[-1] * x_list[-1] + x_list[-2])\n",
    "        # y_list.append(-quotients[-1] * y_list[-1] + y_list[-2])\n",
    "\n",
    "    return x_list[-1] % n2\n",
    "\n",
    "\n",
    "extended_euclidean_algorithm(5, 8)\n"
   ]
  },
  {
   "cell_type": "code",
   "execution_count": 61,
   "id": "82eb4270",
   "metadata": {},
   "outputs": [
    {
     "name": "stdout",
     "output_type": "stream",
     "text": [
      "a\n",
      "b\n",
      "c\n",
      "d\n",
      "e\n",
      "f\n",
      "g\n",
      "h\n",
      "i\n",
      "j\n",
      "k\n",
      "l\n",
      "m\n",
      "n\n",
      "o\n",
      "p\n",
      "q\n",
      "r\n",
      "s\n",
      "t\n",
      "u\n",
      "v\n",
      "w\n",
      "x\n",
      "y\n",
      "z\n"
     ]
    }
   ],
   "source": [
    "import string\n",
    "for i in string.ascii_lowercase:\n",
    "    print(i)"
   ]
  },
  {
   "cell_type": "code",
   "execution_count": null,
   "id": "861d3279",
   "metadata": {},
   "outputs": [],
   "source": []
  }
 ],
 "metadata": {
  "kernelspec": {
   "display_name": "Python 3 (ipykernel)",
   "language": "python",
   "name": "python3"
  },
  "language_info": {
   "codemirror_mode": {
    "name": "ipython",
    "version": 3
   },
   "file_extension": ".py",
   "mimetype": "text/x-python",
   "name": "python",
   "nbconvert_exporter": "python",
   "pygments_lexer": "ipython3",
   "version": "3.9.13"
  }
 },
 "nbformat": 4,
 "nbformat_minor": 5
}
