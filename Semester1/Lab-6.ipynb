{
 "cells": [
  {
   "cell_type": "code",
   "execution_count": 3,
   "id": "af133e0c",
   "metadata": {},
   "outputs": [
    {
     "name": "stdout",
     "output_type": "stream",
     "text": [
      "Enter the message: thankspeshmarga\n",
      "Enter the key: hawler\n",
      "ahwyojweosqrygw\n"
     ]
    }
   ],
   "source": [
    "from string import ascii_lowercase as alphabet\n",
    "\n",
    "message = input(\"Enter the message: \").lower().strip()\n",
    "key = input(\"Enter the key: \").lower()\n",
    "enc_mess = \"\"\n",
    "\n",
    "key_i = 0\n",
    "key_end = len(key) -1\n",
    "\n",
    "for letter in message:\n",
    "    enc_mess += alphabet[(alphabet.index(letter) + alphabet.index(key[key_i])) % len(alphabet)]\n",
    "    if key_i < key_end:\n",
    "        key_i += 1\n",
    "    else:\n",
    "        key_i = 0\n",
    "    \n",
    "print(enc_mess)    "
   ]
  },
  {
   "cell_type": "code",
   "execution_count": 6,
   "id": "9dff669e",
   "metadata": {},
   "outputs": [
    {
     "name": "stdout",
     "output_type": "stream",
     "text": [
      "Enter 1 to encrypt and 2 to decrypt: 2\n",
      "Enter the message: ahwyojweosqrygw\n",
      "Enter the key: hawler\n",
      "thankspeshmarga\n"
     ]
    }
   ],
   "source": [
    "# Q2) according to above program, write a program to create two functions for \n",
    "# encryption and decryption Vigenere cipher, and then in the main program control \n",
    "# the function by entering 1 to encrypt and 2 to decrypt.\n",
    "\n",
    "from string import ascii_lowercase as alphabet\n",
    "def vige_cipher(message, key, choice):\n",
    "    key_i = 0\n",
    "    key_end = len(key) -1\n",
    "    enc_mess = \"\"\n",
    "    \n",
    "    if choice == 2:\n",
    "        direction = -1\n",
    "    else:\n",
    "        direction = 1\n",
    "\n",
    "    for letter in message:\n",
    "        enc_mess += alphabet[(alphabet.index(letter) + (direction*alphabet.index(key[key_i]))) % len(alphabet)]\n",
    "        if key_i < key_end:\n",
    "            key_i += 1\n",
    "        else:\n",
    "            key_i = 0  \n",
    "    return enc_mess\n",
    "            \n",
    "choice = int(input(\"Enter 1 to encrypt and 2 to decrypt: \"))\n",
    "message = input(\"Enter the message: \").lower().strip()\n",
    "key = input(\"Enter the key: \").lower()\n",
    "enc_mess = \"\"\n",
    "\n",
    "    \n",
    "print(vige_cipher(message, key, choice))"
   ]
  },
  {
   "cell_type": "code",
   "execution_count": 10,
   "id": "2ceaad15",
   "metadata": {},
   "outputs": [
    {
     "name": "stdout",
     "output_type": "stream",
     "text": [
      "Enter 1 to encrypt and 2 to decrypt: 1\n",
      "Enter the message: thankspeshmarga\n",
      "Enter the key: hawler\n",
      "taprhcpxhljkr`p\n"
     ]
    }
   ],
   "source": [
    "# Q3) Write a program to encryption a message using Vigenere cipher with ASCII \n",
    "# code.\n",
    "# Q4) Write a program to decryption a message using Vigenere cipher with ASCII \n",
    "# code.\n",
    "def vige_cipher(message, key, choice):\n",
    "    key_i = 0\n",
    "    key_end = len(key) -1\n",
    "    enc_mess = \"\"\n",
    "    \n",
    "    if choice == 2:\n",
    "        direction = -1\n",
    "    else:\n",
    "        direction = 1\n",
    "        \n",
    "    for letter in message:\n",
    "        x = ord(letter) + (direction * ord(key[key_i]))\n",
    "        if x >= 122:\n",
    "            while x >= 122 :\n",
    "                x -= 26\n",
    "        elif x < 97:\n",
    "            while x < 97:\n",
    "                x+=26\n",
    "        enc_mess += chr(x)\n",
    "        \n",
    "        if key_i < key_end:\n",
    "            key_i += 1\n",
    "        else:\n",
    "            key_i = 0  \n",
    "            \n",
    "    return enc_mess\n",
    "\n",
    "\n",
    "            \n",
    "choice = int(input(\"Enter 1 to encrypt and 2 to decrypt: \"))\n",
    "message = input(\"Enter the message: \").lower().strip()\n",
    "key = input(\"Enter the key: \").lower()\n",
    "\n",
    "    \n",
    "print(vige_cipher(message, key, choice))\n",
    "\n",
    "    \n"
   ]
  },
  {
   "cell_type": "code",
   "execution_count": null,
   "id": "ee1345f5",
   "metadata": {},
   "outputs": [],
   "source": []
  },
  {
   "cell_type": "code",
   "execution_count": null,
   "id": "8ded5069",
   "metadata": {},
   "outputs": [],
   "source": []
  }
 ],
 "metadata": {
  "kernelspec": {
   "display_name": "Python 3 (ipykernel)",
   "language": "python",
   "name": "python3"
  },
  "language_info": {
   "codemirror_mode": {
    "name": "ipython",
    "version": 3
   },
   "file_extension": ".py",
   "mimetype": "text/x-python",
   "name": "python",
   "nbconvert_exporter": "python",
   "pygments_lexer": "ipython3",
   "version": "3.9.13"
  }
 },
 "nbformat": 4,
 "nbformat_minor": 5
}
