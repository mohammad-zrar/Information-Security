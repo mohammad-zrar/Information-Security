{
 "cells": [
  {
   "cell_type": "code",
   "execution_count": 3,
   "id": "6fdc2171",
   "metadata": {},
   "outputs": [
    {
     "name": "stdout",
     "output_type": "stream",
     "text": [
      "---GCD finder---\n",
      "Enter fitst number: 5\n",
      "Enter second number: 8\n",
      "8 = 1 * 5 + 3\n",
      "5 = 1 * 3 + 2\n",
      "3 = 1 * 2 + 1\n",
      "The GCD between 5 and 8 is 1\n"
     ]
    }
   ],
   "source": [
    "print(\"---GCD finder---\")\n",
    "def find_GCD(num1, num2):\n",
    "    a = []\n",
    "    b = []\n",
    "    r = []\n",
    "    q = []\n",
    "    if num1 > num2:\n",
    "        a.append(num1)\n",
    "        b.append(num2)\n",
    "    else:\n",
    "        a.append(num2)\n",
    "        b.append(num1)\n",
    "    \n",
    "    r.append(a[0]%b[0])\n",
    "    q.append(int(a[0]/b[0]))\n",
    "    \n",
    "    i=0\n",
    "    while r[i] != 0:\n",
    "        a.append(b[i])\n",
    "        b.append(r[i])\n",
    "        if b[i+1] == 0:\n",
    "            break\n",
    "        else:\n",
    "            r.append(a[i+1]%b[i+1])\n",
    "            q.append(int(a[i+1]/b[i+1]))\n",
    "        print(f'{a[i]} = {q[i]} * {b[i]} + {r[i]}')\n",
    "        i += 1\n",
    "    return b[-1] # Last element of the array b is the gcd\n",
    "        \n",
    "        \n",
    "\n",
    "num1 = int(input(\"Enter fitst number: \"))\n",
    "num2 = int(input(\"Enter second number: \"))\n",
    "\n",
    "gcd = find_GCD(num1, num2)\n",
    "print(f\"The GCD between {num1} and {num2} is {gcd}\")\n"
   ]
  },
  {
   "cell_type": "code",
   "execution_count": 41,
   "id": "5645da52",
   "metadata": {},
   "outputs": [
    {
     "name": "stdout",
     "output_type": "stream",
     "text": [
      "Please enter first number:819\n",
      "Please enter second number: 462\n",
      "819 = 1 * 462 + 357\n",
      "462 = 1 * 357 + 105\n",
      "357 = 3 * 105 + 42\n",
      "105 = 2 * 42 + 21\n",
      "42 = 2 * 21 + 0\n",
      "GCD=21\n"
     ]
    }
   ],
   "source": [
    "num1 = int(input('Please enter first number:'))\n",
    "num2 = int(input('Please enter second number: '))\n",
    "while num2 != 0:\n",
    "    q = int(num1/num2)\n",
    "    rem = num1 % num2\n",
    "    print(f\"{num1} = {q} * {num2} + {rem}\")\n",
    "    num1 = num2\n",
    "    num2 = rem\n",
    "print('GCD='+str(num1))"
   ]
  },
  {
   "cell_type": "code",
   "execution_count": 53,
   "id": "6c12a3ee",
   "metadata": {},
   "outputs": [
    {
     "name": "stdout",
     "output_type": "stream",
     "text": [
      "Please enter first number: 819\n",
      "Please enter second number: 462\n",
      "819 = 1 * 462 + 357\n",
      "462 = 1 * 357 + 105\n",
      "357 = 3 * 105 + 42\n",
      "105 = 2 * 42 + 21\n",
      "42 = 2 * 21 + 0\n",
      "GCD=21\n"
     ]
    }
   ],
   "source": [
    "# Q2) use recursion function to find the GCD between two numbers.\n",
    "def find_GCD(num1, num2):\n",
    "    q = int(num1/num2)\n",
    "    rem = num1 % num2\n",
    "    print(f\"{num1} = {q} * {num2} + {rem}\")\n",
    "    if rem == 0:\n",
    "        return num2\n",
    "    else:\n",
    "        return find_GCD(num2, rem)\n",
    "\n",
    "\n",
    "num1 = int(input('Please enter first number: '))\n",
    "num2 = int(input('Please enter second number: '))\n",
    "\n",
    "gcd = find_GCD(num1, num2)\n",
    "print('GCD='+str(gcd))"
   ]
  },
  {
   "cell_type": "code",
   "execution_count": 2,
   "id": "16421afa",
   "metadata": {},
   "outputs": [
    {
     "data": {
      "text/plain": [
       "False"
      ]
     },
     "execution_count": 2,
     "metadata": {},
     "output_type": "execute_result"
    }
   ],
   "source": [
    "def find_GCD(num1, num2):\n",
    "    q = int(num1/num2)\n",
    "    rem = num1 % num2\n",
    "    print(f\"{num1} = {q} * {num2} + {rem}\")\n",
    "    if rem == 0:\n",
    "        return num2\n",
    "    else:\n",
    "        return find_GCD(num2, rem)\n",
    "\n",
    "\n",
    "\n",
    "num1 = int(input('Please enter first number: '))\n",
    "num2 = int(input('Please enter second number: '))\n",
    "\n",
    "if find_GCD(num1, num2) == 1:\n",
    "    \n",
    "    \n",
    "else:\n",
    "    print('Inverse is Not Unique')"
   ]
  },
  {
   "cell_type": "code",
   "execution_count": null,
   "id": "503b9944",
   "metadata": {},
   "outputs": [],
   "source": [
    "\n",
    "\n",
    "\n",
    "\n",
    "\n",
    "\n",
    "\n",
    "\n",
    "\n"
   ]
  }
 ],
 "metadata": {
  "kernelspec": {
   "display_name": "Python 3 (ipykernel)",
   "language": "python",
   "name": "python3"
  },
  "language_info": {
   "codemirror_mode": {
    "name": "ipython",
    "version": 3
   },
   "file_extension": ".py",
   "mimetype": "text/x-python",
   "name": "python",
   "nbconvert_exporter": "python",
   "pygments_lexer": "ipython3",
   "version": "3.9.13"
  }
 },
 "nbformat": 4,
 "nbformat_minor": 5
}
