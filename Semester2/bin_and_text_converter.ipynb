{
 "cells": [
  {
   "cell_type": "code",
   "execution_count": 1,
   "id": "31b28ae8",
   "metadata": {},
   "outputs": [
    {
     "name": "stdout",
     "output_type": "stream",
     "text": [
      "Enter the binary: 0100100001100101011011000110110001101111\n",
      "Hello\n"
     ]
    }
   ],
   "source": [
    "# This function convert string to binary\n",
    "def to_bin(strg):\n",
    "    ls = []\n",
    "    for c in strg:\n",
    "        s = \"\"\n",
    "        num = ord(c)\n",
    "        while num != 0:\n",
    "            s += str(num%2)\n",
    "            num = int(num/2)\n",
    "        while len(s) != 8:\n",
    "            s =   s + \"0\"\n",
    "        ls.append(s[::-1])\n",
    "        s = \"\"\n",
    "    ls = \"\".join(ls)\n",
    "    return ls\n",
    "\n",
    "# This function convert binary to string\n",
    "def to_str(b):\n",
    "    # step1: create a list that every element consts of 8 bit\n",
    "    b8_list = []\n",
    "    for i in range(0, len(b), 8):\n",
    "        b8_list.append(b[i: i+8])\n",
    "    \n",
    "    # Step2: go through the list and onvert into real number\n",
    "    string = \"\"\n",
    "    for b8 in b8_list:\n",
    "        sum_b = 0\n",
    "        for i,bit in enumerate(b8[::-1]):\n",
    "            if bit == \"1\":\n",
    "                sum_b = 2**i + sum_b\n",
    "        string = string + chr(sum_b)\n",
    "    return string\n",
    "                \n",
    "\n",
    "# string = input(\"Enter the text: \")\n",
    "# print(to_bin(string))\n",
    "\n",
    "# binary = input(\"Enter the binary: \")\n",
    "# print(to_str(binary))"
   ]
  },
  {
   "cell_type": "code",
   "execution_count": 22,
   "id": "0cbacdb4",
   "metadata": {},
   "outputs": [
    {
     "name": "stdout",
     "output_type": "stream",
     "text": [
      "01001000\n",
      "01100101\n",
      "01101100\n",
      "01101100\n",
      "01101111\n"
     ]
    }
   ],
   "source": [
    "bin = \"01001000 01100101 01101100 01101100 01101111\"\n",
    "for b in bin.split():\n",
    "    print(b)\n",
    "\n"
   ]
  },
  {
   "cell_type": "code",
   "execution_count": 2,
   "id": "7dc6820f",
   "metadata": {},
   "outputs": [
    {
     "name": "stdout",
     "output_type": "stream",
     "text": [
      "The original string is : Hello\n",
      "The string after binary conversion : 0100100001100101011011000110110001101111\n"
     ]
    }
   ],
   "source": [
    "\n",
    "\n",
    "# initializing string\n",
    "test_str = \"Hello\"\n",
    "\n",
    "# printing original string\n",
    "print(\"The original string is : \" + str(test_str))\n",
    "\n",
    "# using join() + ord() + format()\n",
    "# Converting String to binary\n",
    "res = ''.join(format(ord(i), '08b') for i in test_str)\n",
    "\n",
    "# printing result\n",
    "print(\"The string after binary conversion : \" + str(res))\n"
   ]
  },
  {
   "cell_type": "code",
   "execution_count": 3,
   "id": "7d1bdae1",
   "metadata": {},
   "outputs": [
    {
     "name": "stdout",
     "output_type": "stream",
     "text": [
      "llo\n"
     ]
    }
   ],
   "source": []
  }
 ],
 "metadata": {
  "kernelspec": {
   "display_name": "Python 3 (ipykernel)",
   "language": "python",
   "name": "python3"
  },
  "language_info": {
   "codemirror_mode": {
    "name": "ipython",
    "version": 3
   },
   "file_extension": ".py",
   "mimetype": "text/x-python",
   "name": "python",
   "nbconvert_exporter": "python",
   "pygments_lexer": "ipython3",
   "version": "3.9.13"
  }
 },
 "nbformat": 4,
 "nbformat_minor": 5
}
