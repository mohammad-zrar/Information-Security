{
 "cells": [
  {
   "cell_type": "code",
   "execution_count": 51,
   "id": "31b28ae8",
   "metadata": {},
   "outputs": [
    {
     "name": "stdout",
     "output_type": "stream",
     "text": [
      "Enter the binary: 0100100001100101011011000110110001101111\n",
      "H\n",
      "e\n",
      "l\n",
      "l\n",
      "o\n"
     ]
    }
   ],
   "source": [
    "def to_bin(strg):\n",
    "    ls = []\n",
    "    for c in strg:\n",
    "        s = \"\"\n",
    "        num = ord(c)\n",
    "        \n",
    "        while num != 0:\n",
    "            s += str(num%2)\n",
    "            num = int(num/2)\n",
    "        while len(s) != 8:\n",
    "            s =   s + \"0\"\n",
    "        ls.append(s[::-1])\n",
    "        s = \"\"\n",
    "    ls = \"\".join(ls)\n",
    "    return ls\n",
    "\n",
    "def to_str(b):\n",
    "    b8_list = []\n",
    "    for i in range(0, len(b), 8):\n",
    "        b8_list.append(b[i: i+8])\n",
    "    \n",
    "    for b8 in b8_list:\n",
    "        sum_b = 0\n",
    "        for i,bit in enumerate(b8[::-1]):\n",
    "            if bit == \"1\":\n",
    "                sum_b = 2**i + sum_b\n",
    "        print(chr(sum_b))\n",
    "                \n",
    "            \n",
    "            \n",
    "        \n",
    "\n",
    "# string = input(\"Enter the text: \")\n",
    "# print(to_bin(string))\n",
    "\n",
    "binary = input(\"Enter the binary: \")\n",
    "to_str(binary)"
   ]
  },
  {
   "cell_type": "code",
   "execution_count": 22,
   "id": "0cbacdb4",
   "metadata": {},
   "outputs": [
    {
     "name": "stdout",
     "output_type": "stream",
     "text": [
      "01001000\n",
      "01100101\n",
      "01101100\n",
      "01101100\n",
      "01101111\n"
     ]
    }
   ],
   "source": [
    "bin = \"01001000 01100101 01101100 01101100 01101111\"\n",
    "for b in bin.split():\n",
    "    print(b)\n",
    "\n"
   ]
  },
  {
   "cell_type": "code",
   "execution_count": 15,
   "id": "7dc6820f",
   "metadata": {},
   "outputs": [
    {
     "name": "stdout",
     "output_type": "stream",
     "text": [
      "The original string is : Hello\n",
      "The string after binary conversion : 0100100001100101011011000110110001101111\n"
     ]
    }
   ],
   "source": [
    "\n",
    "\n",
    "# initializing string\n",
    "test_str = \"Hello\"\n",
    "\n",
    "# printing original string\n",
    "print(\"The original string is : \" + str(test_str))\n",
    "\n",
    "# using join() + ord() + format()\n",
    "# Converting String to binary\n",
    "res = ''.join(format(ord(i), '08b') for i in test_str)\n",
    "\n",
    "# printing result\n",
    "print(\"The string after binary conversion : \" + str(res))\n"
   ]
  },
  {
   "cell_type": "code",
   "execution_count": 50,
   "id": "7d1bdae1",
   "metadata": {},
   "outputs": [
    {
     "name": "stdout",
     "output_type": "stream",
     "text": [
      "i=0, j=H\n",
      "i=1, j=e\n",
      "i=2, j=l\n",
      "i=3, j=l\n",
      "i=4, j=o\n"
     ]
    }
   ],
   "source": [
    "for i, j in enumerate(test_str):\n",
    "    print(f\"i={i}, j={j}\")"
   ]
  }
 ],
 "metadata": {
  "kernelspec": {
   "display_name": "Python 3 (ipykernel)",
   "language": "python",
   "name": "python3"
  },
  "language_info": {
   "codemirror_mode": {
    "name": "ipython",
    "version": 3
   },
   "file_extension": ".py",
   "mimetype": "text/x-python",
   "name": "python",
   "nbconvert_exporter": "python",
   "pygments_lexer": "ipython3",
   "version": "3.9.13"
  }
 },
 "nbformat": 4,
 "nbformat_minor": 5
}
